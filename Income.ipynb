{
 "cells": [
  {
   "cell_type": "code",
   "execution_count": 1,
   "id": "cde90e70",
   "metadata": {},
   "outputs": [],
   "source": [
    "import pandas as pd\n",
    "\n",
    "# Replace 'path_to_file' with the actual path to your CSV file\n",
    "csv_file_path = \"C:\\Professional\\MS\\SHU\\Dissertation\\Input_data\\Income.csv\"\n",
    "\n",
    "# Read the CSV file into a pandas DataFrame, skipping the first row (header)\n",
    "df = pd.read_csv(csv_file_path, skiprows=1)"
   ]
  },
  {
   "cell_type": "code",
   "execution_count": 40,
   "id": "795cab4a",
   "metadata": {},
   "outputs": [
    {
     "data": {
      "text/html": [
       "<div>\n",
       "<style scoped>\n",
       "    .dataframe tbody tr th:only-of-type {\n",
       "        vertical-align: middle;\n",
       "    }\n",
       "\n",
       "    .dataframe tbody tr th {\n",
       "        vertical-align: top;\n",
       "    }\n",
       "\n",
       "    .dataframe thead th {\n",
       "        text-align: right;\n",
       "    }\n",
       "</style>\n",
       "<table border=\"1\" class=\"dataframe\">\n",
       "  <thead>\n",
       "    <tr style=\"text-align: right;\">\n",
       "      <th></th>\n",
       "      <th>Geography</th>\n",
       "      <th>Estimate!!Households!!Median income (dollars)</th>\n",
       "      <th>Estimate!!Families!!Median income (dollars)</th>\n",
       "      <th>Estimate!!Married-couple families!!Median income (dollars)</th>\n",
       "      <th>Estimate!!Nonfamily households!!Median income (dollars)</th>\n",
       "    </tr>\n",
       "  </thead>\n",
       "  <tbody>\n",
       "    <tr>\n",
       "      <th>0</th>\n",
       "      <td>860Z200US00601</td>\n",
       "      <td>15292</td>\n",
       "      <td>16283</td>\n",
       "      <td>19060</td>\n",
       "      <td>9386</td>\n",
       "    </tr>\n",
       "    <tr>\n",
       "      <th>1</th>\n",
       "      <td>860Z200US00602</td>\n",
       "      <td>18716</td>\n",
       "      <td>23199</td>\n",
       "      <td>26600</td>\n",
       "      <td>11242</td>\n",
       "    </tr>\n",
       "    <tr>\n",
       "      <th>2</th>\n",
       "      <td>860Z200US00603</td>\n",
       "      <td>16789</td>\n",
       "      <td>21537</td>\n",
       "      <td>35043</td>\n",
       "      <td>10639</td>\n",
       "    </tr>\n",
       "    <tr>\n",
       "      <th>3</th>\n",
       "      <td>860Z200US00606</td>\n",
       "      <td>18835</td>\n",
       "      <td>21044</td>\n",
       "      <td>25455</td>\n",
       "      <td>15849</td>\n",
       "    </tr>\n",
       "    <tr>\n",
       "      <th>4</th>\n",
       "      <td>860Z200US00610</td>\n",
       "      <td>21239</td>\n",
       "      <td>25097</td>\n",
       "      <td>28653</td>\n",
       "      <td>12832</td>\n",
       "    </tr>\n",
       "    <tr>\n",
       "      <th>...</th>\n",
       "      <td>...</td>\n",
       "      <td>...</td>\n",
       "      <td>...</td>\n",
       "      <td>...</td>\n",
       "      <td>...</td>\n",
       "    </tr>\n",
       "    <tr>\n",
       "      <th>33769</th>\n",
       "      <td>860Z200US99923</td>\n",
       "      <td>-</td>\n",
       "      <td>-</td>\n",
       "      <td>-</td>\n",
       "      <td>-</td>\n",
       "    </tr>\n",
       "    <tr>\n",
       "      <th>33770</th>\n",
       "      <td>860Z200US99925</td>\n",
       "      <td>70625</td>\n",
       "      <td>79375</td>\n",
       "      <td>95417</td>\n",
       "      <td>23958</td>\n",
       "    </tr>\n",
       "    <tr>\n",
       "      <th>33771</th>\n",
       "      <td>860Z200US99926</td>\n",
       "      <td>58229</td>\n",
       "      <td>80625</td>\n",
       "      <td>98333</td>\n",
       "      <td>31250</td>\n",
       "    </tr>\n",
       "    <tr>\n",
       "      <th>33772</th>\n",
       "      <td>860Z200US99927</td>\n",
       "      <td>-</td>\n",
       "      <td>-</td>\n",
       "      <td>-</td>\n",
       "      <td>-</td>\n",
       "    </tr>\n",
       "    <tr>\n",
       "      <th>33773</th>\n",
       "      <td>860Z200US99929</td>\n",
       "      <td>54946</td>\n",
       "      <td>70682</td>\n",
       "      <td>74904</td>\n",
       "      <td>33125</td>\n",
       "    </tr>\n",
       "  </tbody>\n",
       "</table>\n",
       "<p>33774 rows × 5 columns</p>\n",
       "</div>"
      ],
      "text/plain": [
       "            Geography Estimate!!Households!!Median income (dollars)  \\\n",
       "0      860Z200US00601                                         15292   \n",
       "1      860Z200US00602                                         18716   \n",
       "2      860Z200US00603                                         16789   \n",
       "3      860Z200US00606                                         18835   \n",
       "4      860Z200US00610                                         21239   \n",
       "...               ...                                           ...   \n",
       "33769  860Z200US99923                                             -   \n",
       "33770  860Z200US99925                                         70625   \n",
       "33771  860Z200US99926                                         58229   \n",
       "33772  860Z200US99927                                             -   \n",
       "33773  860Z200US99929                                         54946   \n",
       "\n",
       "      Estimate!!Families!!Median income (dollars)  \\\n",
       "0                                           16283   \n",
       "1                                           23199   \n",
       "2                                           21537   \n",
       "3                                           21044   \n",
       "4                                           25097   \n",
       "...                                           ...   \n",
       "33769                                           -   \n",
       "33770                                       79375   \n",
       "33771                                       80625   \n",
       "33772                                           -   \n",
       "33773                                       70682   \n",
       "\n",
       "      Estimate!!Married-couple families!!Median income (dollars)  \\\n",
       "0                                                  19060           \n",
       "1                                                  26600           \n",
       "2                                                  35043           \n",
       "3                                                  25455           \n",
       "4                                                  28653           \n",
       "...                                                  ...           \n",
       "33769                                                  -           \n",
       "33770                                              95417           \n",
       "33771                                              98333           \n",
       "33772                                                  -           \n",
       "33773                                              74904           \n",
       "\n",
       "      Estimate!!Nonfamily households!!Median income (dollars)  \n",
       "0                                                   9386       \n",
       "1                                                  11242       \n",
       "2                                                  10639       \n",
       "3                                                  15849       \n",
       "4                                                  12832       \n",
       "...                                                  ...       \n",
       "33769                                                  -       \n",
       "33770                                              23958       \n",
       "33771                                              31250       \n",
       "33772                                                  -       \n",
       "33773                                              33125       \n",
       "\n",
       "[33774 rows x 5 columns]"
      ]
     },
     "execution_count": 40,
     "metadata": {},
     "output_type": "execute_result"
    }
   ],
   "source": [
    "# Include the 'Geography' column in the list of columns to extract\n",
    "desired_columns = ['Geography'] + [col for col in df.columns if col.startswith('Estimate') and ('Percent' not in col) and ('Median' in col and 'dollars' in col)]\n",
    "\n",
    "# Extract the desired columns\n",
    "df_extracted = df[desired_columns]\n",
    "\n",
    "# Verify the columns that were removed are not required in the analysis\n",
    "removed_columns = list(set(df.columns) - set(df_extracted.columns))\n",
    "# Reset the index and remove it from the DataFrame\n",
    "df_extracted = df_extracted.reset_index(drop=True)\n",
    "\n",
    "# Display the extracted DataFrame\n",
    "df_extracted"
   ]
  },
  {
   "cell_type": "code",
   "execution_count": 41,
   "id": "d6e890bd",
   "metadata": {},
   "outputs": [
    {
     "name": "stdout",
     "output_type": "stream",
     "text": [
      "['Annotation of Margin of Error!!Nonfamily households!!PERCENT ALLOCATED!!Family income in the past 12 months', 'Annotation of Estimate!!Households!!Total!!$15,000 to $24,999', 'Annotation of Margin of Error!!Married-couple families!!Total!!$25,000 to $34,999', 'Annotation of Estimate!!Married-couple families!!Total!!$35,000 to $49,999', 'Estimate!!Families!!Total', 'Annotation of Margin of Error!!Families!!PERCENT ALLOCATED!!Nonfamily income in the past 12 months', 'Estimate!!Households!!Total!!$75,000 to $99,999', 'Estimate!!Nonfamily households!!Total!!$50,000 to $74,999', 'Annotation of Estimate!!Households!!Total!!Less than $10,000', 'Annotation of Margin of Error!!Married-couple families!!PERCENT ALLOCATED!!Family income in the past 12 months', 'Annotation of Margin of Error!!Families!!Total!!$150,000 to $199,999', 'Annotation of Margin of Error!!Married-couple families!!Total!!$100,000 to $149,999', 'Margin of Error!!Families!!Total!!$15,000 to $24,999', 'Estimate!!Households!!PERCENT ALLOCATED!!Family income in the past 12 months', 'Annotation of Margin of Error!!Families!!Median income (dollars)', 'Margin of Error!!Married-couple families!!Total!!$25,000 to $34,999', 'Margin of Error!!Nonfamily households!!Total!!$200,000 or more', 'Margin of Error!!Families!!PERCENT ALLOCATED!!Household income in the past 12 months', 'Annotation of Estimate!!Nonfamily households!!Total', 'Estimate!!Married-couple families!!PERCENT ALLOCATED!!Household income in the past 12 months', 'Annotation of Margin of Error!!Nonfamily households!!Total!!$10,000 to $14,999', 'Estimate!!Families!!Total!!$75,000 to $99,999', 'Annotation of Margin of Error!!Married-couple families!!Total!!$200,000 or more', 'Margin of Error!!Married-couple families!!Total!!$15,000 to $24,999', 'Estimate!!Nonfamily households!!PERCENT ALLOCATED!!Household income in the past 12 months', 'Annotation of Margin of Error!!Households!!Total!!$10,000 to $14,999', 'Annotation of Estimate!!Households!!Total!!$35,000 to $49,999', 'Annotation of Margin of Error!!Families!!Total!!$75,000 to $99,999', 'Margin of Error!!Married-couple families!!Total!!$150,000 to $199,999', 'Margin of Error!!Nonfamily households!!Total!!$15,000 to $24,999', 'Annotation of Margin of Error!!Households!!Total!!$50,000 to $74,999', 'Estimate!!Nonfamily households!!Total!!Less than $10,000', 'Estimate!!Married-couple families!!Total!!$100,000 to $149,999', 'Margin of Error!!Households!!Total!!$15,000 to $24,999', 'Annotation of Margin of Error!!Families!!PERCENT ALLOCATED!!Family income in the past 12 months', 'Annotation of Margin of Error!!Married-couple families!!Median income (dollars)', 'Annotation of Estimate!!Married-couple families!!Total!!$75,000 to $99,999', 'Estimate!!Households!!Total!!Less than $10,000', 'Estimate!!Nonfamily households!!PERCENT ALLOCATED!!Family income in the past 12 months', 'Margin of Error!!Households!!Total', 'Estimate!!Married-couple families!!Total!!$150,000 to $199,999', 'Annotation of Margin of Error!!Married-couple families!!PERCENT ALLOCATED!!Nonfamily income in the past 12 months', 'Annotation of Estimate!!Married-couple families!!Total!!$50,000 to $74,999', 'Margin of Error!!Households!!Total!!Less than $10,000', 'Margin of Error!!Married-couple families!!PERCENT ALLOCATED!!Household income in the past 12 months', 'Margin of Error!!Nonfamily households!!Total!!$35,000 to $49,999', 'Annotation of Margin of Error!!Nonfamily households!!PERCENT ALLOCATED!!Nonfamily income in the past 12 months', 'Estimate!!Families!!PERCENT ALLOCATED!!Nonfamily income in the past 12 months', 'Estimate!!Households!!Total!!$15,000 to $24,999', 'Annotation of Margin of Error!!Married-couple families!!Total!!$15,000 to $24,999', 'Annotation of Margin of Error!!Nonfamily households!!Total!!$150,000 to $199,999', 'Margin of Error!!Families!!Total!!Less than $10,000', 'Income Range', 'Margin of Error!!Households!!Total!!$75,000 to $99,999', 'Estimate!!Families!!Total!!Less than $10,000', 'Estimate!!Nonfamily households!!Total!!$75,000 to $99,999', 'Margin of Error!!Married-couple families!!Median income (dollars)', 'Margin of Error!!Households!!PERCENT ALLOCATED!!Household income in the past 12 months', 'Annotation of Margin of Error!!Households!!Total!!$15,000 to $24,999', 'Annotation of Margin of Error!!Nonfamily households!!Total!!$50,000 to $74,999', 'Annotation of Estimate!!Nonfamily households!!Total!!$15,000 to $24,999', 'Margin of Error!!Families!!Total!!$10,000 to $14,999', 'Annotation of Margin of Error!!Married-couple families!!Total!!$75,000 to $99,999', 'Annotation of Estimate!!Married-couple families!!PERCENT ALLOCATED!!Family income in the past 12 months', 'Margin of Error!!Households!!Total!!$50,000 to $74,999', 'Annotation of Margin of Error!!Households!!Median income (dollars)', 'Estimate!!Nonfamily households!!Total!!$100,000 to $149,999', 'Margin of Error!!Families!!Total!!$50,000 to $74,999', 'Estimate!!Families!!Total!!$200,000 or more', 'Estimate!!Married-couple families!!Total!!$200,000 or more', 'Annotation of Estimate!!Families!!Total', 'Annotation of Margin of Error!!Nonfamily households!!Total!!$35,000 to $49,999', 'Estimate!!Households!!Total!!$150,000 to $199,999', 'Annotation of Estimate!!Married-couple families!!Mean income (dollars)', 'Annotation of Margin of Error!!Married-couple families!!PERCENT ALLOCATED!!Household income in the past 12 months', 'Annotation of Estimate!!Married-couple families!!Total!!$25,000 to $34,999', 'Estimate!!Families!!Total!!$25,000 to $34,999', 'Annotation of Margin of Error!!Nonfamily households!!Total!!Less than $10,000', 'Annotation of Estimate!!Households!!PERCENT ALLOCATED!!Nonfamily income in the past 12 months', 'Estimate!!Households!!Total!!$10,000 to $14,999', 'Annotation of Estimate!!Families!!Total!!$75,000 to $99,999', 'Annotation of Estimate!!Families!!Total!!$25,000 to $34,999', 'Annotation of Margin of Error!!Married-couple families!!Total!!$150,000 to $199,999', 'Annotation of Margin of Error!!Married-couple families!!Total!!$35,000 to $49,999', 'Estimate!!Nonfamily households!!Mean income (dollars)', 'Estimate!!Households!!Total', 'Margin of Error!!Households!!Total!!$150,000 to $199,999', 'Margin of Error!!Families!!Total', 'Margin of Error!!Families!!Total!!$200,000 or more', 'Annotation of Estimate!!Married-couple families!!Median income (dollars)', 'Estimate!!Families!!Mean income (dollars)', 'Estimate!!Married-couple families!!Total', 'Annotation of Margin of Error!!Nonfamily households!!Total', 'Annotation of Estimate!!Married-couple families!!Total!!$10,000 to $14,999', 'Margin of Error!!Nonfamily households!!Total!!$50,000 to $74,999', 'Margin of Error!!Households!!PERCENT ALLOCATED!!Family income in the past 12 months', 'Margin of Error!!Households!!Median income (dollars)', 'Margin of Error!!Families!!Total!!$75,000 to $99,999', 'Annotation of Margin of Error!!Nonfamily households!!Mean income (dollars)', 'Annotation of Estimate!!Nonfamily households!!PERCENT ALLOCATED!!Family income in the past 12 months', 'Annotation of Estimate!!Families!!Total!!$100,000 to $149,999', 'Estimate!!Households!!Total!!$100,000 to $149,999', 'Margin of Error!!Nonfamily households!!Total!!$25,000 to $34,999', 'Annotation of Margin of Error!!Nonfamily households!!Total!!$75,000 to $99,999', 'Annotation of Margin of Error!!Married-couple families!!Mean income (dollars)', 'Margin of Error!!Families!!Total!!$25,000 to $34,999', 'Estimate!!Nonfamily households!!Total!!$10,000 to $14,999', 'Annotation of Margin of Error!!Households!!Total!!$35,000 to $49,999', 'Estimate!!Families!!Total!!$150,000 to $199,999', 'Annotation of Margin of Error!!Households!!PERCENT ALLOCATED!!Family income in the past 12 months', 'Estimate!!Households!!PERCENT ALLOCATED!!Nonfamily income in the past 12 months', 'Annotation of Estimate!!Nonfamily households!!Total!!$35,000 to $49,999', 'Margin of Error!!Families!!PERCENT ALLOCATED!!Nonfamily income in the past 12 months', 'Estimate!!Families!!Total!!$10,000 to $14,999', 'Margin of Error!!Married-couple families!!Total!!Less than $10,000', 'Margin of Error!!Nonfamily households!!PERCENT ALLOCATED!!Family income in the past 12 months', 'Annotation of Margin of Error!!Households!!Total!!$75,000 to $99,999', 'Annotation of Margin of Error!!Nonfamily households!!Total!!$15,000 to $24,999', 'Estimate!!Families!!Total!!$15,000 to $24,999', 'Annotation of Margin of Error!!Nonfamily households!!Median income (dollars)', 'Margin of Error!!Married-couple families!!Total!!$100,000 to $149,999', 'Estimate!!Married-couple families!!PERCENT ALLOCATED!!Family income in the past 12 months', 'Annotation of Estimate!!Families!!Total!!$35,000 to $49,999', 'Margin of Error!!Families!!Total!!$150,000 to $199,999', 'Unnamed: 258', 'Estimate!!Married-couple families!!Total!!$50,000 to $74,999', 'Margin of Error!!Families!!PERCENT ALLOCATED!!Family income in the past 12 months', 'Annotation of Estimate!!Families!!Total!!$10,000 to $14,999', 'Annotation of Margin of Error!!Families!!Total!!$35,000 to $49,999', 'Annotation of Margin of Error!!Households!!PERCENT ALLOCATED!!Nonfamily income in the past 12 months', 'Estimate!!Households!!Total!!$35,000 to $49,999', 'Annotation of Estimate!!Families!!PERCENT ALLOCATED!!Family income in the past 12 months', 'Annotation of Estimate!!Married-couple families!!Total!!$200,000 or more', 'Annotation of Estimate!!Nonfamily households!!Mean income (dollars)', 'Annotation of Estimate!!Families!!Total!!$200,000 or more', 'Annotation of Margin of Error!!Nonfamily households!!PERCENT ALLOCATED!!Household income in the past 12 months', 'Margin of Error!!Families!!Total!!$100,000 to $149,999', 'Annotation of Estimate!!Nonfamily households!!Total!!$200,000 or more', 'Annotation of Margin of Error!!Families!!Total!!$15,000 to $24,999', 'Margin of Error!!Married-couple families!!PERCENT ALLOCATED!!Family income in the past 12 months', 'Annotation of Estimate!!Nonfamily households!!Total!!Less than $10,000', 'Margin of Error!!Households!!Total!!$100,000 to $149,999', 'Annotation of Margin of Error!!Households!!Total!!$25,000 to $34,999', 'Annotation of Estimate!!Households!!Total!!$100,000 to $149,999', 'Annotation of Margin of Error!!Families!!Total!!$100,000 to $149,999', 'Margin of Error!!Families!!Median income (dollars)', 'Annotation of Estimate!!Households!!Median income (dollars)', 'Estimate!!Families!!Total!!$100,000 to $149,999', 'Margin of Error!!Households!!PERCENT ALLOCATED!!Nonfamily income in the past 12 months', 'Annotation of Estimate!!Married-couple families!!PERCENT ALLOCATED!!Household income in the past 12 months', 'Annotation of Margin of Error!!Married-couple families!!Total!!$50,000 to $74,999', 'Annotation of Estimate!!Families!!Median income (dollars)', 'Margin of Error!!Households!!Mean income (dollars)', 'Estimate!!Households!!Total!!$200,000 or more', 'Estimate!!Married-couple families!!Total!!$35,000 to $49,999', 'Annotation of Estimate!!Households!!Total!!$10,000 to $14,999', 'Annotation of Margin of Error!!Households!!PERCENT ALLOCATED!!Household income in the past 12 months', 'Annotation of Margin of Error!!Families!!PERCENT ALLOCATED!!Household income in the past 12 months', 'Margin of Error!!Married-couple families!!PERCENT ALLOCATED!!Nonfamily income in the past 12 months', 'Margin of Error!!Nonfamily households!!Total!!Less than $10,000', 'Margin of Error!!Nonfamily households!!Total!!$10,000 to $14,999', 'Margin of Error!!Nonfamily households!!PERCENT ALLOCATED!!Nonfamily income in the past 12 months', 'Annotation of Estimate!!Households!!Mean income (dollars)', 'Margin of Error!!Families!!Total!!$35,000 to $49,999', 'Annotation of Margin of Error!!Households!!Total!!$150,000 to $199,999', 'Margin of Error!!Nonfamily households!!Total', 'Margin of Error!!Married-couple families!!Mean income (dollars)', 'Annotation of Estimate!!Nonfamily households!!PERCENT ALLOCATED!!Household income in the past 12 months', 'Annotation of Margin of Error!!Families!!Total', 'Annotation of Margin of Error!!Nonfamily households!!Total!!$100,000 to $149,999', 'Margin of Error!!Households!!Total!!$25,000 to $34,999', 'Annotation of Estimate!!Households!!Total!!$150,000 to $199,999', 'Margin of Error!!Married-couple families!!Total', 'Annotation of Estimate!!Families!!Mean income (dollars)', 'Estimate!!Nonfamily households!!PERCENT ALLOCATED!!Nonfamily income in the past 12 months', 'Geographic Area Name', 'Annotation of Margin of Error!!Married-couple families!!Total!!$10,000 to $14,999', 'Margin of Error!!Nonfamily households!!Median income (dollars)', 'Margin of Error!!Married-couple families!!Total!!$10,000 to $14,999', 'Estimate!!Nonfamily households!!Total!!$150,000 to $199,999', 'Estimate!!Married-couple families!!Total!!$75,000 to $99,999', 'Annotation of Estimate!!Households!!Total!!$25,000 to $34,999', 'Annotation of Margin of Error!!Households!!Total', 'Estimate!!Households!!Total!!$25,000 to $34,999', 'Estimate!!Households!!Mean income (dollars)', 'Annotation of Estimate!!Nonfamily households!!Total!!$75,000 to $99,999', 'Estimate!!Families!!Total!!$50,000 to $74,999', 'Annotation of Estimate!!Married-couple families!!Total!!Less than $10,000', 'Annotation of Estimate!!Nonfamily households!!Total!!$100,000 to $149,999', 'Estimate!!Households!!PERCENT ALLOCATED!!Household income in the past 12 months', 'Annotation of Margin of Error!!Households!!Total!!Less than $10,000', 'Estimate!!Households!!Total!!$50,000 to $74,999', 'Annotation of Estimate!!Families!!Total!!Less than $10,000', 'Estimate!!Married-couple families!!PERCENT ALLOCATED!!Nonfamily income in the past 12 months', 'Annotation of Estimate!!Families!!PERCENT ALLOCATED!!Household income in the past 12 months', 'Margin of Error!!Nonfamily households!!PERCENT ALLOCATED!!Household income in the past 12 months', 'Annotation of Margin of Error!!Households!!Total!!$200,000 or more', 'Annotation of Margin of Error!!Married-couple families!!Total!!Less than $10,000', 'Margin of Error!!Households!!Total!!$10,000 to $14,999', 'Estimate!!Married-couple families!!Total!!$10,000 to $14,999', 'Annotation of Estimate!!Families!!Total!!$150,000 to $199,999', 'Annotation of Estimate!!Married-couple families!!Total!!$15,000 to $24,999', 'Annotation of Estimate!!Nonfamily households!!Total!!$50,000 to $74,999', 'Estimate!!Nonfamily households!!Total', 'Margin of Error!!Nonfamily households!!Total!!$150,000 to $199,999', 'Margin of Error!!Married-couple families!!Total!!$200,000 or more', 'Estimate!!Married-couple families!!Total!!$15,000 to $24,999', 'Annotation of Estimate!!Nonfamily households!!Total!!$10,000 to $14,999', 'Annotation of Estimate!!Families!!Total!!$50,000 to $74,999', 'Margin of Error!!Married-couple families!!Total!!$50,000 to $74,999', 'Estimate!!Nonfamily households!!Total!!$200,000 or more', 'Annotation of Estimate!!Married-couple families!!Total!!$150,000 to $199,999', 'Annotation of Estimate!!Households!!Total!!$50,000 to $74,999', 'Annotation of Estimate!!Married-couple families!!Total', 'Annotation of Margin of Error!!Married-couple families!!Total', 'Estimate!!Families!!PERCENT ALLOCATED!!Family income in the past 12 months', 'Estimate!!Nonfamily households!!Total!!$35,000 to $49,999', 'Margin of Error!!Nonfamily households!!Total!!$75,000 to $99,999', 'Margin of Error!!Nonfamily households!!Total!!$100,000 to $149,999', 'Annotation of Estimate!!Households!!PERCENT ALLOCATED!!Family income in the past 12 months', 'Annotation of Estimate!!Nonfamily households!!Total!!$150,000 to $199,999', 'Annotation of Margin of Error!!Households!!Total!!$100,000 to $149,999', 'Annotation of Estimate!!Households!!Total!!$75,000 to $99,999', 'Margin of Error!!Households!!Total!!$35,000 to $49,999', 'Annotation of Estimate!!Families!!Total!!$15,000 to $24,999', 'Annotation of Margin of Error!!Households!!Mean income (dollars)', 'Annotation of Margin of Error!!Nonfamily households!!Total!!$25,000 to $34,999', 'Annotation of Margin of Error!!Families!!Total!!$50,000 to $74,999', 'Margin of Error!!Households!!Total!!$200,000 or more', 'Estimate!!Families!!PERCENT ALLOCATED!!Household income in the past 12 months', 'Annotation of Estimate!!Nonfamily households!!Total!!$25,000 to $34,999', 'Annotation of Estimate!!Households!!Total!!$200,000 or more', 'Estimate!!Nonfamily households!!Total!!$25,000 to $34,999', 'Margin of Error!!Married-couple families!!Total!!$75,000 to $99,999', 'Estimate!!Married-couple families!!Mean income (dollars)', 'Annotation of Estimate!!Households!!PERCENT ALLOCATED!!Household income in the past 12 months', 'Annotation of Margin of Error!!Families!!Total!!$10,000 to $14,999', 'Margin of Error!!Nonfamily households!!Mean income (dollars)', 'Estimate!!Married-couple families!!Total!!Less than $10,000', 'Annotation of Estimate!!Married-couple families!!Total!!$100,000 to $149,999', 'Annotation of Margin of Error!!Families!!Total!!Less than $10,000', 'Estimate!!Families!!Total!!$35,000 to $49,999', 'Annotation of Estimate!!Nonfamily households!!PERCENT ALLOCATED!!Nonfamily income in the past 12 months', 'Margin of Error!!Married-couple families!!Total!!$35,000 to $49,999', 'Estimate!!Married-couple families!!Total!!$25,000 to $34,999', 'Estimate!!Nonfamily households!!Total!!$15,000 to $24,999', 'Annotation of Estimate!!Families!!PERCENT ALLOCATED!!Nonfamily income in the past 12 months', 'Margin of Error!!Families!!Mean income (dollars)', 'Annotation of Margin of Error!!Families!!Total!!$200,000 or more', 'Annotation of Estimate!!Households!!Total', 'Annotation of Estimate!!Married-couple families!!PERCENT ALLOCATED!!Nonfamily income in the past 12 months', 'Annotation of Margin of Error!!Families!!Total!!$25,000 to $34,999', 'Annotation of Estimate!!Nonfamily households!!Median income (dollars)', 'Annotation of Margin of Error!!Nonfamily households!!Total!!$200,000 or more', 'Annotation of Margin of Error!!Families!!Mean income (dollars)']\n"
     ]
    }
   ],
   "source": [
    "print(removed_columns)"
   ]
  },
  {
   "cell_type": "code",
   "execution_count": 42,
   "id": "7a9b79a6",
   "metadata": {},
   "outputs": [],
   "source": [
    "new_column_names = {\n",
    "    'Geography': 'Geography',\n",
    "    'Estimate!!Households!!Median income (dollars)': 'Household Median Income'\n",
    "}\n",
    "\n",
    "df_extracted = df_extracted.rename(columns=new_column_names)"
   ]
  },
  {
   "cell_type": "code",
   "execution_count": 43,
   "id": "09df992e",
   "metadata": {},
   "outputs": [],
   "source": [
    "df_extracted = df_extracted[['Geography','Household Median Income']]"
   ]
  },
  {
   "cell_type": "code",
   "execution_count": 48,
   "id": "f2585f28",
   "metadata": {},
   "outputs": [
    {
     "name": "stdout",
     "output_type": "stream",
     "text": [
      "Missing Values:\n",
      "Geography                  0\n",
      "Household Median Income    0\n",
      "dtype: int64\n"
     ]
    }
   ],
   "source": [
    "# Checking for missing values\n",
    "missing_values = df_extracted.isnull().sum()\n",
    "\n",
    "print(\"Missing Values:\")\n",
    "print(missing_values)"
   ]
  },
  {
   "cell_type": "code",
   "execution_count": null,
   "id": "66d82dc2",
   "metadata": {},
   "outputs": [],
   "source": [
    "df_extracted['Household Median Income'] = pd.to_numeric(df_extracted['Household Median Income'], errors='coerce')"
   ]
  },
  {
   "cell_type": "code",
   "execution_count": 74,
   "id": "b6b78be3",
   "metadata": {},
   "outputs": [
    {
     "data": {
      "text/html": [
       "<div>\n",
       "<style scoped>\n",
       "    .dataframe tbody tr th:only-of-type {\n",
       "        vertical-align: middle;\n",
       "    }\n",
       "\n",
       "    .dataframe tbody tr th {\n",
       "        vertical-align: top;\n",
       "    }\n",
       "\n",
       "    .dataframe thead th {\n",
       "        text-align: right;\n",
       "    }\n",
       "</style>\n",
       "<table border=\"1\" class=\"dataframe\">\n",
       "  <thead>\n",
       "    <tr style=\"text-align: right;\">\n",
       "      <th></th>\n",
       "      <th>Geography</th>\n",
       "      <th>Household Median Income</th>\n",
       "    </tr>\n",
       "  </thead>\n",
       "  <tbody>\n",
       "    <tr>\n",
       "      <th>0</th>\n",
       "      <td>860Z200US00601</td>\n",
       "      <td>15292.0</td>\n",
       "    </tr>\n",
       "    <tr>\n",
       "      <th>1</th>\n",
       "      <td>860Z200US00602</td>\n",
       "      <td>18716.0</td>\n",
       "    </tr>\n",
       "    <tr>\n",
       "      <th>2</th>\n",
       "      <td>860Z200US00603</td>\n",
       "      <td>16789.0</td>\n",
       "    </tr>\n",
       "    <tr>\n",
       "      <th>3</th>\n",
       "      <td>860Z200US00606</td>\n",
       "      <td>18835.0</td>\n",
       "    </tr>\n",
       "    <tr>\n",
       "      <th>4</th>\n",
       "      <td>860Z200US00610</td>\n",
       "      <td>21239.0</td>\n",
       "    </tr>\n",
       "    <tr>\n",
       "      <th>...</th>\n",
       "      <td>...</td>\n",
       "      <td>...</td>\n",
       "    </tr>\n",
       "    <tr>\n",
       "      <th>33769</th>\n",
       "      <td>860Z200US99923</td>\n",
       "      <td>NaN</td>\n",
       "    </tr>\n",
       "    <tr>\n",
       "      <th>33770</th>\n",
       "      <td>860Z200US99925</td>\n",
       "      <td>70625.0</td>\n",
       "    </tr>\n",
       "    <tr>\n",
       "      <th>33771</th>\n",
       "      <td>860Z200US99926</td>\n",
       "      <td>58229.0</td>\n",
       "    </tr>\n",
       "    <tr>\n",
       "      <th>33772</th>\n",
       "      <td>860Z200US99927</td>\n",
       "      <td>NaN</td>\n",
       "    </tr>\n",
       "    <tr>\n",
       "      <th>33773</th>\n",
       "      <td>860Z200US99929</td>\n",
       "      <td>54946.0</td>\n",
       "    </tr>\n",
       "  </tbody>\n",
       "</table>\n",
       "<p>33774 rows × 2 columns</p>\n",
       "</div>"
      ],
      "text/plain": [
       "            Geography  Household Median Income\n",
       "0      860Z200US00601                  15292.0\n",
       "1      860Z200US00602                  18716.0\n",
       "2      860Z200US00603                  16789.0\n",
       "3      860Z200US00606                  18835.0\n",
       "4      860Z200US00610                  21239.0\n",
       "...               ...                      ...\n",
       "33769  860Z200US99923                      NaN\n",
       "33770  860Z200US99925                  70625.0\n",
       "33771  860Z200US99926                  58229.0\n",
       "33772  860Z200US99927                      NaN\n",
       "33773  860Z200US99929                  54946.0\n",
       "\n",
       "[33774 rows x 2 columns]"
      ]
     },
     "execution_count": 74,
     "metadata": {},
     "output_type": "execute_result"
    }
   ],
   "source": [
    "import numpy as np\n",
    "numeric_columns = ['Household Median Income' ]\n",
    "# Function to check if a string is numeric (including handling scientific notation)\n",
    "def is_numeric(value):\n",
    "    try:\n",
    "        float(value)\n",
    "        return True\n",
    "    except ValueError:\n",
    "        return False\n",
    "\n",
    "# Function to clean and convert values to numeric format\n",
    "def clean_and_convert(value):\n",
    "    value = str(value).replace(',', '').replace('+', '').replace('-', '')  # Remove , + and - characters\n",
    "    try:\n",
    "        return float(value)  # Convert to float\n",
    "    except ValueError:\n",
    "        return np.nan  # If not a valid numeric value, return NaN\n",
    "\n",
    "# Loop through each numeric column and check for non-numeric characters\n",
    "for column in numeric_columns:\n",
    "    non_numeric_values = df_extracted[column][~df_extracted[column].apply(is_numeric)]\n",
    "    if len(non_numeric_values) > 0:\n",
    "        print(f\"Column '{column}' has non-numeric values:\")\n",
    "        for value in non_numeric_values:\n",
    "            non_numeric_chars = ''.join([char for char in str(value) if not is_numeric(char) and char != '.'])\n",
    "            print(f\"Value '{value}' contains non-numeric characters: {non_numeric_chars}\")\n",
    "\n",
    "    # Clean and convert values for the column\n",
    "    df_extracted[column] = df_extracted[column].apply(clean_and_convert)\n"
   ]
  },
  {
   "cell_type": "code",
   "execution_count": 85,
   "id": "fffc6ed8",
   "metadata": {},
   "outputs": [
    {
     "data": {
      "text/plain": [
       "3178"
      ]
     },
     "execution_count": 85,
     "metadata": {},
     "output_type": "execute_result"
    }
   ],
   "source": [
    "len(df_extracted[df_extracted['Household Median Income'].isna()==True])"
   ]
  },
  {
   "cell_type": "code",
   "execution_count": 88,
   "id": "8ed14a2e",
   "metadata": {},
   "outputs": [],
   "source": [
    "df_extracted['Household Median Income'] = df_extracted['Household Median Income'].fillna(df_extracted['Household Median Income'].mean())"
   ]
  },
  {
   "cell_type": "code",
   "execution_count": 89,
   "id": "1e29204c",
   "metadata": {},
   "outputs": [
    {
     "data": {
      "text/plain": [
       "0"
      ]
     },
     "execution_count": 89,
     "metadata": {},
     "output_type": "execute_result"
    }
   ],
   "source": [
    "len(df_extracted[df_extracted['Household Median Income'].isna()==True])"
   ]
  },
  {
   "cell_type": "code",
   "execution_count": 90,
   "id": "1729253e",
   "metadata": {},
   "outputs": [],
   "source": [
    "df_extracted.to_csv(\"C:\\professional\\ms\\shu\\dissertation\\Output_data\\dem\\income_cleaned.csv\",index=False)"
   ]
  },
  {
   "cell_type": "code",
   "execution_count": 98,
   "id": "c7d6b32e",
   "metadata": {},
   "outputs": [
    {
     "data": {
      "image/png": "[encoded data removed]",
      "text/plain": [
       "<Figure size 600x300 with 1 Axes>"
      ]
     },
     "metadata": {},
     "output_type": "display_data"
    }
   ],
   "source": [
    "import seaborn as sns\n",
    "import matplotlib.pyplot as plt\n",
    "\n",
    "# Assuming df_extracted contains your data\n",
    "plt.figure(figsize=(6,3))\n",
    "sns.boxplot(x=df_extracted['Household Median Income'], width=0.4, orient='h')\n",
    "plt.title('Boxplot of Household Median Income')\n",
    "plt.xlabel('Income')\n",
    "plt.grid(True)\n",
    "plt.show()\n"
   ]
  },
  {
   "cell_type": "code",
   "execution_count": 102,
   "id": "d443f455",
   "metadata": {},
   "outputs": [
    {
     "name": "stderr",
     "output_type": "stream",
     "text": [
      "C:\\Users\\nikhi\\AppData\\Local\\Temp\\ipykernel_26124\\4204933690.py:4: FutureWarning: \n",
      "\n",
      "`shade` is now deprecated in favor of `fill`; setting `fill=True`.\n",
      "This will become an error in seaborn v0.14.0; please update your code.\n",
      "\n",
      "  sns.kdeplot(income_values, shade=True)\n"
     ]
    },
    {
     "data": {
      "image/png": "[encoded data removed]",
      "text/plain": [
       "<Figure size 800x600 with 1 Axes>"
      ]
     },
     "metadata": {},
     "output_type": "display_data"
    }
   ],
   "source": [
    "income_values = df_extracted['Household Median Income']\n",
    "\n",
    "plt.figure(figsize=(8, 6))\n",
    "sns.kdeplot(income_values, shade=True)\n",
    "plt.title('Household Income Distribtion')\n",
    "plt.xlabel('Income')\n",
    "plt.ylabel('Density')\n",
    "plt.grid(True)\n",
    "plt.show()"
   ]
  },
  {
   "cell_type": "code",
   "execution_count": null,
   "id": "c77013b7",
   "metadata": {},
   "outputs": [],
   "source": []
  }
 ],
 "metadata": {
  "kernelspec": {
   "display_name": "Python 3",
   "language": "python",
   "name": "python3"
  },
  "language_info": {
   "codemirror_mode": {
    "name": "ipython",
    "version": 3
   },
   "file_extension": ".py",
   "mimetype": "text/x-python",
   "name": "python",
   "nbconvert_exporter": "python",
   "pygments_lexer": "ipython3",
   "version": "3.10.9"
  }
 },
 "nbformat": 4,
 "nbformat_minor": 5
}
