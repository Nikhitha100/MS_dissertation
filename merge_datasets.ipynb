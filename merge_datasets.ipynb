{
 "cells": [
  {
   "cell_type": "code",
   "execution_count": 8,
   "id": "3f6a6ee5",
   "metadata": {},
   "outputs": [
    {
     "name": "stdout",
     "output_type": "stream",
     "text": [
      "Total number of records in Age_sex.csv: 33774\n",
      "Total number of records in Income_cleaned.csv: 33774\n",
      "Total number of records in Race_cleaned.csv: 33774\n",
      "Number of records in the merged DataFrame: 33774\n"
     ]
    }
   ],
   "source": [
    "import os\n",
    "import pandas as pd\n",
    "# Get the directory path from command line arguments\n",
    "csv_file_path = r\"C:\\\\Professional\\\\MS\\\\SHU\\\\Dissertation\\\\Output_data\\\\dem\\\\\"\n",
    "\n",
    "# List of filenames to merge\n",
    "file_names = [\"Age_sex.csv\", \"Income_cleaned.csv\", \"Race_cleaned.csv\"]\n",
    "\n",
    "# Initialize a variable to keep track of the total number of records\n",
    "total_records = 0\n",
    "\n",
    "# Loop through each file name and count the number of records\n",
    "for file_name in file_names:\n",
    "    file_path = os.path.join(csv_file_path, file_name)\n",
    "    df = pd.read_csv(file_path)\n",
    "    num_records = len(df)\n",
    "    print(f\"Total number of records in {file_name}: {num_records}\")\n",
    "\n",
    "# Initialize the merged dataframe with the first dataframe\n",
    "merged_df = pd.read_csv(os.path.join(csv_file_path, file_names[0]))\n",
    "\n",
    "# Loop through the rest of the dataframes and merge them\n",
    "for file_name in file_names[1:]:\n",
    "    df_to_merge = pd.read_csv(os.path.join(csv_file_path, file_name))\n",
    "    merged_df = merged_df.merge(df_to_merge, on='Geography')\n",
    "\n",
    "print(\"Number of records in the merged DataFrame:\", len(merged_df))\n"
   ]
  },
  {
   "cell_type": "code",
   "execution_count": 9,
   "id": "cf309104",
   "metadata": {},
   "outputs": [],
   "source": [
    "merged_df.to_csv(\"C:\\professional\\ms\\shu\\dissertation\\Output_data\\merged_dem.csv\",index=False)"
   ]
  },
  {
   "cell_type": "code",
   "execution_count": null,
   "id": "f74037d8",
   "metadata": {},
   "outputs": [],
   "source": []
  }
 ],
 "metadata": {
  "kernelspec": {
   "display_name": "Python 3",
   "language": "python",
   "name": "python3"
  },
  "language_info": {
   "codemirror_mode": {
    "name": "ipython",
    "version": 3
   },
   "file_extension": ".py",
   "mimetype": "text/x-python",
   "name": "python",
   "nbconvert_exporter": "python",
   "pygments_lexer": "ipython3",
   "version": "3.10.9"
  }
 },
 "nbformat": 4,
 "nbformat_minor": 5
}
