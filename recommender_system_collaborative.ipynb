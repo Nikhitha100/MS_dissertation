{
 "cells": [
  {
   "cell_type": "code",
   "execution_count": 44,
   "id": "742a7eee",
   "metadata": {},
   "outputs": [
    {
     "name": "stdout",
     "output_type": "stream",
     "text": [
      "Estimating biases using als...\n",
      "Computing the msd similarity matrix...\n",
      "Done computing similarity matrix.\n",
      "Estimating biases using als...\n",
      "Computing the msd similarity matrix...\n",
      "Done computing similarity matrix.\n",
      "Estimating biases using als...\n",
      "Computing the msd similarity matrix...\n",
      "Done computing similarity matrix.\n",
      "Estimating biases using als...\n",
      "Computing the msd similarity matrix...\n",
      "Done computing similarity matrix.\n",
      "Estimating biases using als...\n",
      "Computing the msd similarity matrix...\n",
      "Done computing similarity matrix.\n",
      "Computing the msd similarity matrix...\n",
      "Done computing similarity matrix.\n",
      "Computing the msd similarity matrix...\n",
      "Done computing similarity matrix.\n",
      "Computing the msd similarity matrix...\n",
      "Done computing similarity matrix.\n",
      "Computing the msd similarity matrix...\n",
      "Done computing similarity matrix.\n",
      "Computing the msd similarity matrix...\n",
      "Done computing similarity matrix.\n",
      "Computing the msd similarity matrix...\n",
      "Done computing similarity matrix.\n",
      "Computing the msd similarity matrix...\n",
      "Done computing similarity matrix.\n",
      "Computing the msd similarity matrix...\n",
      "Done computing similarity matrix.\n",
      "Computing the msd similarity matrix...\n",
      "Done computing similarity matrix.\n",
      "Computing the msd similarity matrix...\n",
      "Done computing similarity matrix.\n",
      "       Algorithm  Fold      RMSE\n",
      "10   KNNBaseline     1  0.119912\n",
      "24  KNNWithMeans     5  0.122199\n",
      "23  KNNWithMeans     4  0.123400\n",
      "14   KNNBaseline     5  0.124444\n",
      "0            SVD     1  0.125323\n",
      "11   KNNBaseline     2  0.125558\n",
      "4            SVD     5  0.125895\n",
      "17      KNNBasic     3  0.126496\n",
      "19      KNNBasic     5  0.126898\n",
      "21  KNNWithMeans     2  0.127342\n",
      "13   KNNBaseline     4  0.128764\n",
      "22  KNNWithMeans     3  0.129351\n",
      "20  KNNWithMeans     1  0.129489\n",
      "16      KNNBasic     2  0.131738\n",
      "1            SVD     2  0.132277\n",
      "18      KNNBasic     4  0.132338\n",
      "3            SVD     4  0.132792\n",
      "12   KNNBaseline     3  0.134012\n",
      "2            SVD     3  0.135515\n",
      "15      KNNBasic     1  0.140612\n",
      "5            NMF     1  0.266511\n",
      "9            NMF     5  0.329269\n",
      "8            NMF     4  0.329447\n",
      "7            NMF     3  0.331683\n",
      "6            NMF     2  0.349887\n",
      "      Algorithm  Mean_RMSE\n",
      "4  KNNWithMeans   0.126356\n",
      "2   KNNBaseline   0.126538\n",
      "0           SVD   0.130360\n",
      "3      KNNBasic   0.131616\n",
      "1           NMF   0.321359\n"
     ]
    }
   ],
   "source": [
    "from surprise import Dataset, Reader\n",
    "from surprise.model_selection import cross_validate\n",
    "from surprise import SVD, NMF, KNNBaseline, KNNBasic, KNNWithMeans, BaselineOnly\n",
    "import pandas as pd\n",
    "# Load the dataset\n",
    "df_new = pd.read_csv(r'C:\\professional\\ms\\shu\\dissertation\\Output_data\\final.csv') \n",
    "# Create a Reader object to specify the rating scale\n",
    "reader = Reader(rating_scale=(1, 5))\n",
    "# Load data from the DataFrame\n",
    "data = Dataset.load_from_df(df_new[['zip_code', 'category_1', 'weighted_average_rating']], reader)\n",
    "algorithms = [SVD(), NMF(), KNNBaseline(), KNNBasic(), KNNWithMeans()]\n",
    "# Benchmarking\n",
    "benchmarks = []\n",
    "benchmark1 = []\n",
    "for algorithm in algorithms:\n",
    "    # Perform cross-validation and store the results in a DataFrame\n",
    "    results = cross_validate(algorithm, data, measures=['RMSE'], cv=5, verbose=False)\n",
    "    mean_rmse = results['test_rmse'].mean()   \n",
    "    # Extract algorithm name\n",
    "    algorithm_name = algorithm.__class__.__name__\n",
    "    # Iterate through each fold's RMSE value and add it to the benchmarks list\n",
    "    for fold_num, rmse_value in enumerate(results['test_rmse'], start=1):\n",
    "        benchmarks.append({'Algorithm': algorithm_name, 'Fold': fold_num, 'RMSE': rmse_value})    \n",
    "    # Append results to the benchmarks list\n",
    "    benchmark1.append({'Algorithm': algorithm_name, 'Mean_RMSE': mean_rmse})\n",
    "# Create a DataFrame from the benchmark results\n",
    "benchmarks_df = pd.DataFrame(benchmarks).sort_values(by='RMSE')\n",
    "benchmark1_df = pd.DataFrame(benchmark1).sort_values(by='Mean_RMSE')\n",
    "\n",
    "# Print the sorted benchmark results\n",
    "print(benchmark1_df)\n"
   ]
  },
  {
   "cell_type": "code",
   "execution_count": 47,
   "id": "6e5c96ce",
   "metadata": {},
   "outputs": [],
   "source": [
    "benchmarks_df.to_csv(r\"C:\\Professional\\MS\\SHU\\Dissertation\\Output_data\\benchmark.csv\")"
   ]
  },
  {
   "cell_type": "code",
   "execution_count": 48,
   "id": "551da7a9",
   "metadata": {},
   "outputs": [
    {
     "name": "stdout",
     "output_type": "stream",
     "text": [
      "Computing the msd similarity matrix...\n",
      "Done computing similarity matrix.\n",
      "RMSE: 0.1283\n",
      "RMSE value:  0.12829326083654602\n"
     ]
    }
   ],
   "source": [
    "from surprise.model_selection import train_test_split\n",
    "from surprise import accuracy\n",
    "# Split the data into train and test sets\n",
    "trainset, testset = train_test_split(data, test_size=0.20)\n",
    "\n",
    "algo = KNNWithMeans()\n",
    "predictions = algo.fit(trainset).test(testset)\n",
    "print(\"RMSE value: \" ,accuracy.rmse(predictions))\n"
   ]
  },
  {
   "cell_type": "code",
   "execution_count": 52,
   "id": "7c33ea25",
   "metadata": {},
   "outputs": [
    {
     "name": "stdout",
     "output_type": "stream",
     "text": [
      "***********Welcome to the location recommender system*************\n",
      "Please enter the location zipcode you wish to check: 646\n",
      "The most similar location suggestions are: [59, 167, 547, 768, 1229, 1238, 1397, 1491, 1503, 1521]\n"
     ]
    }
   ],
   "source": [
    "print(\"***********Welcome to the location recommender system*************\")\n",
    "try:\n",
    "    zipcode = int(input(\"Please enter the location zipcode you wish to check: \"))\n",
    "    recommendations = algo.get_neighbors(zipcode, k=10)\n",
    "    print(\"The most similar location suggestions are:\",recommendations)\n",
    "except:\n",
    "    print(\"Invalid zipcode\")"
   ]
  },
  {
   "cell_type": "code",
   "execution_count": null,
   "id": "439d8a65",
   "metadata": {},
   "outputs": [],
   "source": []
  }
 ],
 "metadata": {
  "kernelspec": {
   "display_name": "Python 3",
   "language": "python",
   "name": "python3"
  },
  "language_info": {
   "codemirror_mode": {
    "name": "ipython",
    "version": 3
   },
   "file_extension": ".py",
   "mimetype": "text/x-python",
   "name": "python",
   "nbconvert_exporter": "python",
   "pygments_lexer": "ipython3",
   "version": "3.10.9"
  }
 },
 "nbformat": 4,
 "nbformat_minor": 5
}
